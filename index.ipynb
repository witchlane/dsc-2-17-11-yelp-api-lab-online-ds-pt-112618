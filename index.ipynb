{
 "cells": [
  {
   "cell_type": "markdown",
   "metadata": {},
   "source": [
    "# Yelp API - Lab\n",
    "\n",
    "The previously deployed lab on working around building a GIS with Yelp API and Folium can be found [here](https://github.com/learn-co-curriculum/dsc-2-15-10-yelp-api-gis-lab/tree/a56358c2d0c2daf569a5f50937c4c27463aadb1a) (not relevant for new students).\n",
    "\n",
    "\n",
    "## Introduction \n",
    "\n",
    "Now that we've seen how the Yelp API works, and some basic Folium visualizations its time to put those skills to work in order to create a working map! Taking things a step further, you'll also independently explore how to perform pagination in order to retrieve a full results set from the Yelp API!\n",
    "\n",
    "## Objectives\n",
    "\n",
    "You will be able to: \n",
    "* Create HTTP requests to get data from Yelp API\n",
    "* Parse HTTP responses and perform data analysis on the data returned\n",
    "* Perform pagination to retrieve troves of data!\n",
    "* Create a simple geographical system on to view information about selected businesses, at a given location. "
   ]
  },
  {
   "cell_type": "markdown",
   "metadata": {},
   "source": [
    "## Problem Introduction\n",
    "\n",
    "You've now worked with some API calls, but we have yet to see how to retrieve a more complete dataset in a programmatic manner. Returning to the Yelp API, the [documentation](https://www.yelp.com/developers/documentation/v3/business_search) also provides us details regarding the API limits. These often include details about the number of requests a user is allowed to make within a specified time limit and the maximum number of results to be returned. In this case, we are told that any request has a maximum of 50 results per request and defaults to 20. Furthermore, any search will be limited to a total of 1000 results. To retrieve all 1000 of these results, we would have to page through the results piece by piece, retriving 50 at a time. Processes such as these are often refered to as pagination.\n",
    "\n",
    "In this lab, you will define a search and then paginate over the results to retrieve all of the results. You'll then parse these responses as a DataFrame (for further exploration) and create a map using Folium to visualize the results geographically."
   ]
  },
  {
   "cell_type": "markdown",
   "metadata": {},
   "source": [
    "## Part I - Make the Initial Request\n",
    "\n",
    "Start by making an initial request to the Yelp API. Your search must include at least 2 parameters: **term** and **location**. For example, you might search for pizza restaurants in NYC. The term and location is up to you, but make the request below."
   ]
  },
  {
   "cell_type": "code",
   "execution_count": 9,
   "metadata": {},
   "outputs": [],
   "source": [
    "client_id = 'WAFXX4kLRZycq_n21RQvPA'\n",
    "api_key = 'nwTKv0s1q3Q_5EMQyvmWvuY7VfLmPT2I8JxgBwY4sW4TvPsb-A43zVzcTRT51ZkTiI-Ua4iWvszsrdvG4zPR0KJLBkKkd6pd8M5Qg8z-DdIbn7f4m6nO6TFnUurOXHYx'"
   ]
  },
  {
   "cell_type": "code",
   "execution_count": 10,
   "metadata": {},
   "outputs": [],
   "source": [
    "import requests"
   ]
  },
  {
   "cell_type": "code",
   "execution_count": 11,
   "metadata": {},
   "outputs": [
    {
     "name": "stdout",
     "output_type": "stream",
     "text": [
      "<Response [200]>\n",
      "<class 'str'>\n",
      "{\"businesses\": [{\"id\": \"ysqgdbSrezXgVwER2kQWKA\", \"alias\": \"julianas-pizza-brooklyn-5\", \"name\": \"Juliana's Pizza\", \"image_url\": \"https://s3-media1.fl.yelpcdn.com/bphoto/7JtwTxhWHf3YS70Ss_CfxA/o.jpg\", \"is_closed\": false, \"url\": \"https://www.yelp.com/biz/julianas-pizza-brooklyn-5?adjust_creative=WAFXX4kLRZycq_n21RQvPA&utm_campaign=yelp_api_v3&utm_medium=api_v3_business_search&utm_source=WAFXX4kLRZycq_n21RQvPA\", \"review_count\": 1950, \"categories\": [{\"alias\": \"pizza\", \"title\": \"Pizza\"}], \"rating\": 4.5, \"coordinates\": {\"latitude\": 40.7026153030093, \"longitude\": -73.9934159993549}, \"transactions\": [], \"price\": \"$$\", \"location\": {\"address1\": \"19 Old Fulton St\", \"address2\": \"\", \"address3\": \"\", \"city\": \"Brooklyn\", \"zip_code\": \"11201\", \"country\": \"US\", \"state\": \"NY\", \"display_address\": [\"19 Old Fulton St\", \"Brooklyn, NY 11201\"]}, \"phone\": \"+17185966700\", \"display_phone\": \"(718) 596-6700\", \"distance\": 323.20506308227306}, {\"id\": \"zj8Lq1T8KIC5zwFief15jg\", \"alias\": \"prince-street-pizza-new-york-2\", \n"
     ]
    }
   ],
   "source": [
    "term = 'pizza'\n",
    "location = 'New York, NY'\n",
    "SEARCH_LIMIT = 10\n",
    "\n",
    "url = 'https://api.yelp.com/v3/businesses/search'\n",
    "\n",
    "headers = {'Authorization': 'Bearer {}'.format(api_key), }\n",
    "url_params = {\n",
    "                'term': term.replace(' ', '+'),\n",
    "                'location': location.replace(' ', '+'),\n",
    "                'limit': SEARCH_LIMIT\n",
    "}\n",
    "\n",
    "response = requests.get(url, headers=headers, params=url_params)\n",
    "print(response)\n",
    "print(type(response.text))\n",
    "print(response.text[:1000])"
   ]
  },
  {
   "cell_type": "code",
   "execution_count": 12,
   "metadata": {},
   "outputs": [
    {
     "data": {
      "text/plain": [
       "dict_keys(['businesses', 'total', 'region'])"
      ]
     },
     "execution_count": 12,
     "metadata": {},
     "output_type": "execute_result"
    }
   ],
   "source": [
    "response.json().keys()"
   ]
  },
  {
   "cell_type": "code",
   "execution_count": 13,
   "metadata": {},
   "outputs": [
    {
     "name": "stdout",
     "output_type": "stream",
     "text": [
      "businesses\n",
      "<class 'list'>\n",
      "\n",
      "\n",
      "total\n",
      "<class 'int'>\n",
      "\n",
      "\n",
      "region\n",
      "<class 'dict'>\n",
      "\n",
      "\n"
     ]
    }
   ],
   "source": [
    "for key in response.json().keys():\n",
    "    print(key)\n",
    "    value = response.json()[key]\n",
    "    print(type(value))\n",
    "    print('\\n')"
   ]
  },
  {
   "cell_type": "code",
   "execution_count": 14,
   "metadata": {},
   "outputs": [
    {
     "data": {
      "text/plain": [
       "[{'id': 'ysqgdbSrezXgVwER2kQWKA',\n",
       "  'alias': 'julianas-pizza-brooklyn-5',\n",
       "  'name': \"Juliana's Pizza\",\n",
       "  'image_url': 'https://s3-media1.fl.yelpcdn.com/bphoto/7JtwTxhWHf3YS70Ss_CfxA/o.jpg',\n",
       "  'is_closed': False,\n",
       "  'url': 'https://www.yelp.com/biz/julianas-pizza-brooklyn-5?adjust_creative=WAFXX4kLRZycq_n21RQvPA&utm_campaign=yelp_api_v3&utm_medium=api_v3_business_search&utm_source=WAFXX4kLRZycq_n21RQvPA',\n",
       "  'review_count': 1950,\n",
       "  'categories': [{'alias': 'pizza', 'title': 'Pizza'}],\n",
       "  'rating': 4.5,\n",
       "  'coordinates': {'latitude': 40.7026153030093,\n",
       "   'longitude': -73.9934159993549},\n",
       "  'transactions': [],\n",
       "  'price': '$$',\n",
       "  'location': {'address1': '19 Old Fulton St',\n",
       "   'address2': '',\n",
       "   'address3': '',\n",
       "   'city': 'Brooklyn',\n",
       "   'zip_code': '11201',\n",
       "   'country': 'US',\n",
       "   'state': 'NY',\n",
       "   'display_address': ['19 Old Fulton St', 'Brooklyn, NY 11201']},\n",
       "  'phone': '+17185966700',\n",
       "  'display_phone': '(718) 596-6700',\n",
       "  'distance': 323.20506308227306},\n",
       " {'id': 'zj8Lq1T8KIC5zwFief15jg',\n",
       "  'alias': 'prince-street-pizza-new-york-2',\n",
       "  'name': 'Prince Street Pizza',\n",
       "  'image_url': 'https://s3-media3.fl.yelpcdn.com/bphoto/ZAukOyv530w4KjOHC5YY1w/o.jpg',\n",
       "  'is_closed': False,\n",
       "  'url': 'https://www.yelp.com/biz/prince-street-pizza-new-york-2?adjust_creative=WAFXX4kLRZycq_n21RQvPA&utm_campaign=yelp_api_v3&utm_medium=api_v3_business_search&utm_source=WAFXX4kLRZycq_n21RQvPA',\n",
       "  'review_count': 2718,\n",
       "  'categories': [{'alias': 'pizza', 'title': 'Pizza'},\n",
       "   {'alias': 'italian', 'title': 'Italian'}],\n",
       "  'rating': 4.5,\n",
       "  'coordinates': {'latitude': 40.7229087705545,\n",
       "   'longitude': -73.9944863319397},\n",
       "  'transactions': ['pickup', 'delivery'],\n",
       "  'price': '$',\n",
       "  'location': {'address1': '27 Prince St',\n",
       "   'address2': None,\n",
       "   'address3': '',\n",
       "   'city': 'New York',\n",
       "   'zip_code': '10012',\n",
       "   'country': 'US',\n",
       "   'state': 'NY',\n",
       "   'display_address': ['27 Prince St', 'New York, NY 10012']},\n",
       "  'phone': '+12129664100',\n",
       "  'display_phone': '(212) 966-4100',\n",
       "  'distance': 1941.9638172538225}]"
      ]
     },
     "execution_count": 14,
     "metadata": {},
     "output_type": "execute_result"
    }
   ],
   "source": [
    "response.json()['businesses'][:2]"
   ]
  },
  {
   "cell_type": "code",
   "execution_count": 15,
   "metadata": {},
   "outputs": [
    {
     "data": {
      "text/plain": [
       "10800"
      ]
     },
     "execution_count": 15,
     "metadata": {},
     "output_type": "execute_result"
    }
   ],
   "source": [
    "response.json()['total']"
   ]
  },
  {
   "cell_type": "code",
   "execution_count": null,
   "metadata": {},
   "outputs": [],
   "source": [
    "#there are 10k rows of data - we will load in about 5k but only start with loading in 50 rows at a time.\n",
    "#first thing is we know how to directly create the dataframe without a loop.\n",
    "# so set up a loop that will take all the column headings and establish them (or not)\n",
    "#also need to iterate over the response and store that information.  The json response is a dictionary\n",
    "#so the \"from_dict\" method takes care of creating and forming the dictionary rows-just  need to iteratve over the 50 lines"
   ]
  },
  {
   "cell_type": "code",
   "execution_count": 16,
   "metadata": {},
   "outputs": [],
   "source": [
    "import pandas as pd\n",
    "import time"
   ]
  },
  {
   "cell_type": "code",
   "execution_count": 18,
   "metadata": {},
   "outputs": [
    {
     "name": "stdout",
     "output_type": "stream",
     "text": [
      "10800total matches found\n",
      "400\n"
     ]
    },
    {
     "data": {
      "text/html": [
       "<div>\n",
       "<style scoped>\n",
       "    .dataframe tbody tr th:only-of-type {\n",
       "        vertical-align: middle;\n",
       "    }\n",
       "\n",
       "    .dataframe tbody tr th {\n",
       "        vertical-align: top;\n",
       "    }\n",
       "\n",
       "    .dataframe thead th {\n",
       "        text-align: right;\n",
       "    }\n",
       "</style>\n",
       "<table border=\"1\" class=\"dataframe\">\n",
       "  <thead>\n",
       "    <tr style=\"text-align: right;\">\n",
       "      <th></th>\n",
       "      <th>alias</th>\n",
       "      <th>categories</th>\n",
       "      <th>coordinates</th>\n",
       "      <th>display_phone</th>\n",
       "      <th>distance</th>\n",
       "      <th>id</th>\n",
       "      <th>image_url</th>\n",
       "      <th>is_closed</th>\n",
       "      <th>location</th>\n",
       "      <th>name</th>\n",
       "      <th>phone</th>\n",
       "      <th>price</th>\n",
       "      <th>rating</th>\n",
       "      <th>review_count</th>\n",
       "      <th>transactions</th>\n",
       "      <th>url</th>\n",
       "    </tr>\n",
       "  </thead>\n",
       "  <tbody>\n",
       "    <tr>\n",
       "      <th>0</th>\n",
       "      <td>julianas-pizza-brooklyn-5</td>\n",
       "      <td>[{'alias': 'pizza', 'title': 'Pizza'}]</td>\n",
       "      <td>{'latitude': 40.7026153030093, 'longitude': -7...</td>\n",
       "      <td>(718) 596-6700</td>\n",
       "      <td>323.205063</td>\n",
       "      <td>ysqgdbSrezXgVwER2kQWKA</td>\n",
       "      <td>https://s3-media1.fl.yelpcdn.com/bphoto/7JtwTx...</td>\n",
       "      <td>False</td>\n",
       "      <td>{'address1': '19 Old Fulton St', 'address2': '...</td>\n",
       "      <td>Juliana's Pizza</td>\n",
       "      <td>+17185966700</td>\n",
       "      <td>$$</td>\n",
       "      <td>4.5</td>\n",
       "      <td>1950</td>\n",
       "      <td>[]</td>\n",
       "      <td>https://www.yelp.com/biz/julianas-pizza-brookl...</td>\n",
       "    </tr>\n",
       "    <tr>\n",
       "      <th>1</th>\n",
       "      <td>prince-street-pizza-new-york-2</td>\n",
       "      <td>[{'alias': 'pizza', 'title': 'Pizza'}, {'alias...</td>\n",
       "      <td>{'latitude': 40.7229087705545, 'longitude': -7...</td>\n",
       "      <td>(212) 966-4100</td>\n",
       "      <td>1941.963817</td>\n",
       "      <td>zj8Lq1T8KIC5zwFief15jg</td>\n",
       "      <td>https://s3-media3.fl.yelpcdn.com/bphoto/ZAukOy...</td>\n",
       "      <td>False</td>\n",
       "      <td>{'address1': '27 Prince St', 'address2': None,...</td>\n",
       "      <td>Prince Street Pizza</td>\n",
       "      <td>+12129664100</td>\n",
       "      <td>$</td>\n",
       "      <td>4.5</td>\n",
       "      <td>2718</td>\n",
       "      <td>[delivery, pickup]</td>\n",
       "      <td>https://www.yelp.com/biz/prince-street-pizza-n...</td>\n",
       "    </tr>\n",
       "    <tr>\n",
       "      <th>2</th>\n",
       "      <td>lombardis-pizza-new-york-4</td>\n",
       "      <td>[{'alias': 'pizza', 'title': 'Pizza'}]</td>\n",
       "      <td>{'latitude': 40.7215934960083, 'longitude': -7...</td>\n",
       "      <td>(212) 941-7994</td>\n",
       "      <td>1798.995978</td>\n",
       "      <td>WIhm0W9197f_rRtDziq5qQ</td>\n",
       "      <td>https://s3-media1.fl.yelpcdn.com/bphoto/UZ6V_h...</td>\n",
       "      <td>False</td>\n",
       "      <td>{'address1': '32 Spring St', 'address2': '', '...</td>\n",
       "      <td>Lombardi's Pizza</td>\n",
       "      <td>+12129417994</td>\n",
       "      <td>$$</td>\n",
       "      <td>4.0</td>\n",
       "      <td>5841</td>\n",
       "      <td>[delivery, pickup]</td>\n",
       "      <td>https://www.yelp.com/biz/lombardis-pizza-new-y...</td>\n",
       "    </tr>\n",
       "    <tr>\n",
       "      <th>3</th>\n",
       "      <td>rizzos-fine-pizza-new-york-4</td>\n",
       "      <td>[{'alias': 'pizza', 'title': 'Pizza'}, {'alias...</td>\n",
       "      <td>{'latitude': 40.720852, 'longitude': -73.984456}</td>\n",
       "      <td>(646) 454-1262</td>\n",
       "      <td>1903.278835</td>\n",
       "      <td>nUpA3sY5b6dynC7aj0eV6A</td>\n",
       "      <td>https://s3-media3.fl.yelpcdn.com/bphoto/r4OPoX...</td>\n",
       "      <td>False</td>\n",
       "      <td>{'address1': '17 Clinton St', 'address2': '', ...</td>\n",
       "      <td>Rizzo's Fine Pizza</td>\n",
       "      <td>+16464541262</td>\n",
       "      <td>$$</td>\n",
       "      <td>4.5</td>\n",
       "      <td>684</td>\n",
       "      <td>[delivery, pickup, restaurant_reservation]</td>\n",
       "      <td>https://www.yelp.com/biz/rizzos-fine-pizza-new...</td>\n",
       "    </tr>\n",
       "    <tr>\n",
       "      <th>4</th>\n",
       "      <td>best-pizza-shop-queens</td>\n",
       "      <td>[{'alias': 'pizza', 'title': 'Pizza'}]</td>\n",
       "      <td>{'latitude': 40.7589, 'longitude': -73.92601}</td>\n",
       "      <td></td>\n",
       "      <td>8281.481284</td>\n",
       "      <td>XLks2jXfslR0SzqFlUa6rw</td>\n",
       "      <td>https://s3-media3.fl.yelpcdn.com/bphoto/nwvuqg...</td>\n",
       "      <td>False</td>\n",
       "      <td>{'address1': '32-20 34th Ave', 'address2': '',...</td>\n",
       "      <td>Best Pizza Shop</td>\n",
       "      <td></td>\n",
       "      <td>NaN</td>\n",
       "      <td>3.5</td>\n",
       "      <td>9</td>\n",
       "      <td>[delivery, pickup]</td>\n",
       "      <td>https://www.yelp.com/biz/best-pizza-shop-queen...</td>\n",
       "    </tr>\n",
       "  </tbody>\n",
       "</table>\n",
       "</div>"
      ],
      "text/plain": [
       "                            alias  \\\n",
       "0       julianas-pizza-brooklyn-5   \n",
       "1  prince-street-pizza-new-york-2   \n",
       "2      lombardis-pizza-new-york-4   \n",
       "3    rizzos-fine-pizza-new-york-4   \n",
       "4          best-pizza-shop-queens   \n",
       "\n",
       "                                          categories  \\\n",
       "0             [{'alias': 'pizza', 'title': 'Pizza'}]   \n",
       "1  [{'alias': 'pizza', 'title': 'Pizza'}, {'alias...   \n",
       "2             [{'alias': 'pizza', 'title': 'Pizza'}]   \n",
       "3  [{'alias': 'pizza', 'title': 'Pizza'}, {'alias...   \n",
       "4             [{'alias': 'pizza', 'title': 'Pizza'}]   \n",
       "\n",
       "                                         coordinates   display_phone  \\\n",
       "0  {'latitude': 40.7026153030093, 'longitude': -7...  (718) 596-6700   \n",
       "1  {'latitude': 40.7229087705545, 'longitude': -7...  (212) 966-4100   \n",
       "2  {'latitude': 40.7215934960083, 'longitude': -7...  (212) 941-7994   \n",
       "3   {'latitude': 40.720852, 'longitude': -73.984456}  (646) 454-1262   \n",
       "4      {'latitude': 40.7589, 'longitude': -73.92601}                   \n",
       "\n",
       "      distance                      id  \\\n",
       "0   323.205063  ysqgdbSrezXgVwER2kQWKA   \n",
       "1  1941.963817  zj8Lq1T8KIC5zwFief15jg   \n",
       "2  1798.995978  WIhm0W9197f_rRtDziq5qQ   \n",
       "3  1903.278835  nUpA3sY5b6dynC7aj0eV6A   \n",
       "4  8281.481284  XLks2jXfslR0SzqFlUa6rw   \n",
       "\n",
       "                                           image_url  is_closed  \\\n",
       "0  https://s3-media1.fl.yelpcdn.com/bphoto/7JtwTx...      False   \n",
       "1  https://s3-media3.fl.yelpcdn.com/bphoto/ZAukOy...      False   \n",
       "2  https://s3-media1.fl.yelpcdn.com/bphoto/UZ6V_h...      False   \n",
       "3  https://s3-media3.fl.yelpcdn.com/bphoto/r4OPoX...      False   \n",
       "4  https://s3-media3.fl.yelpcdn.com/bphoto/nwvuqg...      False   \n",
       "\n",
       "                                            location                 name  \\\n",
       "0  {'address1': '19 Old Fulton St', 'address2': '...      Juliana's Pizza   \n",
       "1  {'address1': '27 Prince St', 'address2': None,...  Prince Street Pizza   \n",
       "2  {'address1': '32 Spring St', 'address2': '', '...     Lombardi's Pizza   \n",
       "3  {'address1': '17 Clinton St', 'address2': '', ...   Rizzo's Fine Pizza   \n",
       "4  {'address1': '32-20 34th Ave', 'address2': '',...      Best Pizza Shop   \n",
       "\n",
       "          phone price  rating  review_count  \\\n",
       "0  +17185966700    $$     4.5          1950   \n",
       "1  +12129664100     $     4.5          2718   \n",
       "2  +12129417994    $$     4.0          5841   \n",
       "3  +16464541262    $$     4.5           684   \n",
       "4                 NaN     3.5             9   \n",
       "\n",
       "                                 transactions  \\\n",
       "0                                          []   \n",
       "1                          [delivery, pickup]   \n",
       "2                          [delivery, pickup]   \n",
       "3  [delivery, pickup, restaurant_reservation]   \n",
       "4                          [delivery, pickup]   \n",
       "\n",
       "                                                 url  \n",
       "0  https://www.yelp.com/biz/julianas-pizza-brookl...  \n",
       "1  https://www.yelp.com/biz/prince-street-pizza-n...  \n",
       "2  https://www.yelp.com/biz/lombardis-pizza-new-y...  \n",
       "3  https://www.yelp.com/biz/rizzos-fine-pizza-new...  \n",
       "4  https://www.yelp.com/biz/best-pizza-shop-queen...  "
      ]
     },
     "execution_count": 18,
     "metadata": {},
     "output_type": "execute_result"
    }
   ],
   "source": [
    "api_key = 'nwTKv0s1q3Q_5EMQyvmWvuY7VfLmPT2I8JxgBwY4sW4TvPsb-A43zVzcTRT51ZkTiI-Ua4iWvszsrdvG4zPR0KJLBkKkd6pd8M5Qg8z-DdIbn7f4m6nO6TFnUurOXHYx'\n",
    "url = 'https://api.yelp.com/v3/businesses/search'\n",
    "\n",
    "term = 'pizza'\n",
    "location = 'New York, NY'\n",
    "\n",
    "\n",
    "def yelp_call(url_params, api_key):\n",
    "    headers = {'Authorization': 'Bearer {}'.format(api_key)}\n",
    "    response = requests.get(url, headers=headers, params=url_params)\n",
    "    \n",
    "    df = pd.DataFrame.from_dict(response.json()['businesses'])\n",
    "    return df\n",
    "    \n",
    "def total_calls(url_params, api_key):\n",
    "    num = response.json()['total']\n",
    "    print('{}total matches found'.format(num))\n",
    "    cur = 0\n",
    "    dfs = []\n",
    "    while cur < num and cur < 1000:\n",
    "        url_params['offset'] = cur\n",
    "        dfs.append(yelp_call(url_params, api_key))\n",
    "        time.sleep(1)\n",
    "        cur += 50\n",
    "    df = pd.concat(dfs, ignore_index = True)\n",
    "    return df\n",
    "\n",
    "url_params = {\n",
    "                'term': term.replace(' ', '+'),\n",
    "                'location': location.replace(' ', '+'),\n",
    "}\n",
    "\n",
    "\n",
    "df = total_calls(url_params, api_key)\n",
    "print(len(df))\n",
    "df.head()\n"
   ]
  },
  {
   "cell_type": "code",
   "execution_count": null,
   "metadata": {},
   "outputs": [],
   "source": [
    "#Your code here"
   ]
  },
  {
   "cell_type": "markdown",
   "metadata": {},
   "source": [
    "## Pagination\n",
    "\n",
    "Now that you have an initial response, you can examine the contents of the json container. For example, you might start with ```response.josn().keys()```. Here, you'll see a key for `'total'`, which tells you the full number of matching results given your query parameters. Write a loop (or ideally a function) which then makes successive API calls using the offset parameter to retrieve all of the results (or 5000 for a particularly large result set) for the original query. As you do this, be mindful of how you store the data. Your final goal will be to reformat the data concerning the businesses themselves into a pandas DataFrame from the json objects.\n",
    "\n",
    "**Note: be mindful of the API rate limits. You can only make 5000 requests per day, and are also can make requests too fast. Start prototyping small before running a loop that could be faulty. You can also use time.sleep(n) to add delays. For more details see https://www.yelp.com/developers/documentation/v3/rate_limiting.**"
   ]
  },
  {
   "cell_type": "code",
   "execution_count": null,
   "metadata": {},
   "outputs": [],
   "source": [
    "# Your code here; use a function or loop to retrieve all the results from your original request"
   ]
  },
  {
   "cell_type": "markdown",
   "metadata": {},
   "source": [
    "## Exploratory Analysis\n",
    "\n",
    "Take the restaurants from the previous question and do an intial exploratory analysis. At minimum, this should include looking at the distribution of features such as price, rating and number of reviews as well as the relations between these dimensions."
   ]
  },
  {
   "cell_type": "code",
   "execution_count": null,
   "metadata": {},
   "outputs": [],
   "source": [
    "#Your code here"
   ]
  },
  {
   "cell_type": "code",
   "execution_count": 19,
   "metadata": {},
   "outputs": [
    {
     "data": {
      "text/plain": [
       "(400, 16)"
      ]
     },
     "execution_count": 19,
     "metadata": {},
     "output_type": "execute_result"
    }
   ],
   "source": [
    "df.shape"
   ]
  },
  {
   "cell_type": "code",
   "execution_count": 29,
   "metadata": {},
   "outputs": [
    {
     "data": {
      "text/plain": [
       "alias             0\n",
       "categories        0\n",
       "coordinates       0\n",
       "display_phone     0\n",
       "distance          0\n",
       "id                0\n",
       "image_url         0\n",
       "is_closed         0\n",
       "location          0\n",
       "name              0\n",
       "phone             0\n",
       "price            40\n",
       "rating            0\n",
       "review_count      0\n",
       "transactions      0\n",
       "url               0\n",
       "dtype: int64"
      ]
     },
     "execution_count": 29,
     "metadata": {},
     "output_type": "execute_result"
    }
   ],
   "source": [
    "df.isnull().sum()"
   ]
  },
  {
   "cell_type": "code",
   "execution_count": 28,
   "metadata": {},
   "outputs": [
    {
     "data": {
      "text/plain": [
       "array(['$$', '$', nan, '$$$', '$$$$'], dtype=object)"
      ]
     },
     "execution_count": 28,
     "metadata": {},
     "output_type": "execute_result"
    }
   ],
   "source": [
    "df.price.unique()"
   ]
  },
  {
   "cell_type": "code",
   "execution_count": 20,
   "metadata": {
    "scrolled": true
   },
   "outputs": [
    {
     "name": "stdout",
     "output_type": "stream",
     "text": [
      "<class 'pandas.core.frame.DataFrame'>\n",
      "RangeIndex: 400 entries, 0 to 399\n",
      "Data columns (total 16 columns):\n",
      "alias            400 non-null object\n",
      "categories       400 non-null object\n",
      "coordinates      400 non-null object\n",
      "display_phone    400 non-null object\n",
      "distance         400 non-null float64\n",
      "id               400 non-null object\n",
      "image_url        400 non-null object\n",
      "is_closed        400 non-null bool\n",
      "location         400 non-null object\n",
      "name             400 non-null object\n",
      "phone            400 non-null object\n",
      "price            360 non-null object\n",
      "rating           400 non-null float64\n",
      "review_count     400 non-null int64\n",
      "transactions     400 non-null object\n",
      "url              400 non-null object\n",
      "dtypes: bool(1), float64(2), int64(1), object(12)\n",
      "memory usage: 47.3+ KB\n"
     ]
    }
   ],
   "source": [
    "df.info()"
   ]
  },
  {
   "cell_type": "code",
   "execution_count": 21,
   "metadata": {},
   "outputs": [
    {
     "data": {
      "text/html": [
       "<div>\n",
       "<style scoped>\n",
       "    .dataframe tbody tr th:only-of-type {\n",
       "        vertical-align: middle;\n",
       "    }\n",
       "\n",
       "    .dataframe tbody tr th {\n",
       "        vertical-align: top;\n",
       "    }\n",
       "\n",
       "    .dataframe thead th {\n",
       "        text-align: right;\n",
       "    }\n",
       "</style>\n",
       "<table border=\"1\" class=\"dataframe\">\n",
       "  <thead>\n",
       "    <tr style=\"text-align: right;\">\n",
       "      <th></th>\n",
       "      <th>distance</th>\n",
       "      <th>rating</th>\n",
       "      <th>review_count</th>\n",
       "    </tr>\n",
       "  </thead>\n",
       "  <tbody>\n",
       "    <tr>\n",
       "      <th>count</th>\n",
       "      <td>400.000000</td>\n",
       "      <td>400.000000</td>\n",
       "      <td>400.000000</td>\n",
       "    </tr>\n",
       "    <tr>\n",
       "      <th>mean</th>\n",
       "      <td>7108.718376</td>\n",
       "      <td>3.895000</td>\n",
       "      <td>265.060000</td>\n",
       "    </tr>\n",
       "    <tr>\n",
       "      <th>std</th>\n",
       "      <td>5392.104184</td>\n",
       "      <td>0.475173</td>\n",
       "      <td>580.827744</td>\n",
       "    </tr>\n",
       "    <tr>\n",
       "      <th>min</th>\n",
       "      <td>323.205063</td>\n",
       "      <td>2.500000</td>\n",
       "      <td>1.000000</td>\n",
       "    </tr>\n",
       "    <tr>\n",
       "      <th>25%</th>\n",
       "      <td>2904.871152</td>\n",
       "      <td>3.500000</td>\n",
       "      <td>44.500000</td>\n",
       "    </tr>\n",
       "    <tr>\n",
       "      <th>50%</th>\n",
       "      <td>5473.740368</td>\n",
       "      <td>4.000000</td>\n",
       "      <td>108.500000</td>\n",
       "    </tr>\n",
       "    <tr>\n",
       "      <th>75%</th>\n",
       "      <td>9460.063526</td>\n",
       "      <td>4.000000</td>\n",
       "      <td>235.500000</td>\n",
       "    </tr>\n",
       "    <tr>\n",
       "      <th>max</th>\n",
       "      <td>30134.404832</td>\n",
       "      <td>5.000000</td>\n",
       "      <td>5841.000000</td>\n",
       "    </tr>\n",
       "  </tbody>\n",
       "</table>\n",
       "</div>"
      ],
      "text/plain": [
       "           distance      rating  review_count\n",
       "count    400.000000  400.000000    400.000000\n",
       "mean    7108.718376    3.895000    265.060000\n",
       "std     5392.104184    0.475173    580.827744\n",
       "min      323.205063    2.500000      1.000000\n",
       "25%     2904.871152    3.500000     44.500000\n",
       "50%     5473.740368    4.000000    108.500000\n",
       "75%     9460.063526    4.000000    235.500000\n",
       "max    30134.404832    5.000000   5841.000000"
      ]
     },
     "execution_count": 21,
     "metadata": {},
     "output_type": "execute_result"
    }
   ],
   "source": [
    "df.describe()"
   ]
  },
  {
   "cell_type": "code",
   "execution_count": 30,
   "metadata": {},
   "outputs": [
    {
     "data": {
      "text/plain": [
       "array([[<matplotlib.axes._subplots.AxesSubplot object at 0x000001FDD1ACF828>,\n",
       "        <matplotlib.axes._subplots.AxesSubplot object at 0x000001FDD2A74828>,\n",
       "        <matplotlib.axes._subplots.AxesSubplot object at 0x000001FDD2A9DD68>],\n",
       "       [<matplotlib.axes._subplots.AxesSubplot object at 0x000001FDD2ACD320>,\n",
       "        <matplotlib.axes._subplots.AxesSubplot object at 0x000001FDD2AF2898>,\n",
       "        <matplotlib.axes._subplots.AxesSubplot object at 0x000001FDD2B1BE10>],\n",
       "       [<matplotlib.axes._subplots.AxesSubplot object at 0x000001FDD2B4B3C8>,\n",
       "        <matplotlib.axes._subplots.AxesSubplot object at 0x000001FDD2B72978>,\n",
       "        <matplotlib.axes._subplots.AxesSubplot object at 0x000001FDD2B729B0>]],\n",
       "      dtype=object)"
      ]
     },
     "execution_count": 30,
     "metadata": {},
     "output_type": "execute_result"
    },
    {
     "data": {
      "image/png": "[encoded data removed]",
      "text/plain": [
       "<Figure size 432x288 with 9 Axes>"
      ]
     },
     "metadata": {
      "needs_background": "light"
     },
     "output_type": "display_data"
    }
   ],
   "source": [
    "import matplotlib.pyplot as plt\n",
    "%matplotlib inline\n",
    "\n",
    "df.price = df.price.fillna(value=0)\n",
    "price_dict = {\"$\":1, \"$$\":2, \"$$$\":3, \"$$$$\":4}\n",
    "df.price = df.price.map(price_dict)\n",
    "\n",
    "\n",
    "pd.plotting.scatter_matrix(df[['price', 'rating', 'review_count']])"
   ]
  },
  {
   "cell_type": "markdown",
   "metadata": {},
   "source": [
    "## Mapping\n",
    "\n",
    "Look at the initial Yelp example and try and make a map using Folium of the restaurants you retrieved. Be sure to also add popups to the markers giving some basic information such as name, rating and price."
   ]
  },
  {
   "cell_type": "code",
   "execution_count": 33,
   "metadata": {},
   "outputs": [],
   "source": [
    "import folium\n",
    "import numpy as np"
   ]
  },
  {
   "cell_type": "code",
   "execution_count": 36,
   "metadata": {},
   "outputs": [
    {
     "data": {
      "text/html": [
       "<div style=\"width:100%;\"><div style=\"position:relative;width:100%;height:0;padding-bottom:60%;\"><iframe src=\"data:text/html;charset=utf-8;base64,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\" style=\"position:absolute;width:100%;height:100%;left:0;top:0;border:none !important;\" allowfullscreen webkitallowfullscreen mozallowfullscreen></iframe></div></div>"
      ],
      "text/plain": [
       "<folium.folium.Map at 0x1fdd42caa20>"
      ]
     },
     "execution_count": 36,
     "metadata": {},
     "output_type": "execute_result"
    }
   ],
   "source": [
    "#Your code here\n",
    "\n",
    "lat_long = df['coordinates'].iloc[0]\n",
    "lat = lat_long['latitude']\n",
    "long = lat_long['longitude']\n",
    "\n",
    "base_map = folium.Map([lat, long], zoom_start=13)\n",
    "\n",
    "amount = range(1,25,1)\n",
    "\n",
    "for p in amount:\n",
    "    lat_long = df['coordinates'][p]\n",
    "    lat = lat_long['latitude']\n",
    "    long = lat_long['longitude']\n",
    "    name = df['name'][p]\n",
    "    rating = df['rating'][p]\n",
    "    price = df['price'][p]\n",
    "    popup_text = 'name: {}, rating: {}, price: {}'.format(name, rating, price)\n",
    "    popup = folium.Popup(popup_text, parse_html=True)\n",
    "    marker = folium.Marker([lat, long], popup=popup)\n",
    "    marker.add_to(base_map)\n",
    "base_map\n"
   ]
  },
  {
   "cell_type": "markdown",
   "metadata": {},
   "source": [
    "## Summary\n",
    "\n",
    "Nice work! In this lab, you synthesized your skills for the day, making multiple API calls to Yelp in order to paginate through a results set, performing some basic exploratory analysis and then creating a nice map visual to display the results! Well done!"
   ]
  }
 ],
 "metadata": {
  "kernelspec": {
   "display_name": "learn-env",
   "language": "python",
   "name": "learn-env"
  },
  "language_info": {
   "codemirror_mode": {
    "name": "ipython",
    "version": 3
   },
   "file_extension": ".py",
   "mimetype": "text/x-python",
   "name": "python",
   "nbconvert_exporter": "python",
   "pygments_lexer": "ipython3",
   "version": "3.6.6"
  }
 },
 "nbformat": 4,
 "nbformat_minor": 2
}
